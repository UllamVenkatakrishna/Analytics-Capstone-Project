{
  "nbformat": 4,
  "nbformat_minor": 0,
  "metadata": {
    "colab": {
      "provenance": [],
      "machine_shape": "hm"
    },
    "kernelspec": {
      "name": "python3",
      "display_name": "Python 3"
    },
    "language_info": {
      "name": "python"
    }
  },
  "cells": [
    {
      "cell_type": "code",
      "source": [
        "# @title\n",
        "#saving\n",
        "\n",
        "import os\n",
        "import pandas as pd # Make sure pandas is imported\n",
        "\n",
        "# Define the path for your new checkpoint file\n",
        "processed_data_path = \"/content/drive/MyDrive/citi_bike_project/processed_data/\"\n",
        "checkpoint_file = os.path.join(processed_data_path, \"citibike_cleaned_checkpoint2.parquet\")\n",
        "\n",
        "# --- THE FIX IS HERE: Create the directory if it doesn't exist ---\n",
        "os.makedirs(processed_data_path, exist_ok=True)\n",
        "\n",
        "print(f\"Saving your cleaned data to a new checkpoint file at: {checkpoint_file}\")\n",
        "\n",
        "# Save the current DataFrame 'df' to the new Parquet file\n",
        "df.to_parquet(checkpoint_file)\n",
        "\n",
        "print(\"\\n✅ Checkpoint saved successfully! You can now terminate your session.\")"
      ],
      "metadata": {
        "colab": {
          "base_uri": "https://localhost:8080/"
        },
        "id": "tZsuqAm_T-10",
        "outputId": "f5552fff-859c-4495-fc79-ca005e44068c"
      },
      "execution_count": null,
      "outputs": [
        {
          "output_type": "stream",
          "name": "stdout",
          "text": [
            "Saving your cleaned data to a new checkpoint file at: /content/drive/MyDrive/citi_bike_project/processed_data/citibike_cleaned_checkpoint2.parquet\n",
            "\n",
            "✅ Checkpoint saved successfully! You can now terminate your session.\n"
          ]
        }
      ]
    },
    {
      "cell_type": "code",
      "source": [
        "# @title\n",
        "#loading data from checkpoint\n",
        "import pandas as pd\n",
        "import os\n",
        "from google.colab import drive\n",
        "\n",
        "# --- 1. Mount your Google Drive ---\n",
        "print(\"Connecting to Google Drive...\")\n",
        "drive.mount('/content/drive', force_remount=True)\n",
        "print(\"✅ Drive connected!\")\n",
        "\n",
        "# --- 2. Define the path to your cleaned checkpoint file ---\n",
        "processed_data_path = \"/content/drive/MyDrive/citi_bike_project/processed_data/\"\n",
        "checkpoint_file = os.path.join(processed_data_path, \"citibike_cleaned_checkpoint2.parquet\")\n",
        "\n",
        "# --- 3. Load the data ---\n",
        "if os.path.exists(checkpoint_file):\n",
        "    print(\"\\nLoading final cleaned data from checkpoint...\")\n",
        "    df = pd.read_parquet(checkpoint_file)\n",
        "    print(\"✅ Checkpoint loaded successfully. Your DataFrame is clean and ready for analysis.\")\n",
        "    df.info()\n",
        "else:\n",
        "    print(f\"\\n❌ ERROR: The checkpoint file was not found at the path: {checkpoint_file}\")\n",
        "    print(\"You must first run the script that creates the 'citibike_cleaned_checkpoint.parquet' file.\")"
      ],
      "metadata": {
        "colab": {
          "base_uri": "https://localhost:8080/"
        },
        "id": "K-XI4Om5VzJ_",
        "outputId": "9cb0883a-e131-4d95-91da-247144de0be8",
        "collapsed": true
      },
      "execution_count": null,
      "outputs": [
        {
          "output_type": "stream",
          "name": "stdout",
          "text": [
            "Connecting to Google Drive...\n",
            "Mounted at /content/drive\n",
            "✅ Drive connected!\n",
            "\n",
            "Loading final cleaned data from checkpoint...\n",
            "✅ Checkpoint loaded successfully. Your DataFrame is clean and ready for analysis.\n",
            "<class 'pandas.core.frame.DataFrame'>\n",
            "Index: 185317713 entries, 0 to 186184519\n",
            "Data columns (total 14 columns):\n",
            " #   Column                 Dtype         \n",
            "---  ------                 -----         \n",
            " 0   rideable_type          category      \n",
            " 1   started_at             datetime64[ns]\n",
            " 2   ended_at               datetime64[ns]\n",
            " 3   start_station_name     category      \n",
            " 4   end_station_name       category      \n",
            " 5   start_lat              float64       \n",
            " 6   start_lng              float64       \n",
            " 7   end_lat                float64       \n",
            " 8   end_lng                float64       \n",
            " 9   member_casual          category      \n",
            " 10  hour                   int32         \n",
            " 11  day_of_week            category      \n",
            " 12  month                  int32         \n",
            " 13  trip_duration_minutes  float64       \n",
            "dtypes: category(5), datetime64[ns](2), float64(5), int32(2)\n",
            "memory usage: 13.6 GB\n"
          ]
        }
      ]
    },
    {
      "cell_type": "code",
      "execution_count": null,
      "metadata": {
        "colab": {
          "base_uri": "https://localhost:8080/"
        },
        "id": "Da52rBxnN_BV",
        "outputId": "5b31b0a7-7cce-46ea-d1b2-267f0a32a4cb"
      },
      "outputs": [
        {
          "output_type": "stream",
          "name": "stdout",
          "text": [
            "Connecting to Google Drive...\n",
            "Mounted at /content/drive\n",
            "Drive connected!\n",
            "Full dataset loaded successfully!\n",
            "<class 'pandas.core.frame.DataFrame'>\n",
            "RangeIndex: 186184520 entries, 0 to 186184519\n",
            "Data columns (total 17 columns):\n",
            " #   Column                 Dtype         \n",
            "---  ------                 -----         \n",
            " 0   ride_id                object        \n",
            " 1   rideable_type          object        \n",
            " 2   started_at             datetime64[ns]\n",
            " 3   ended_at               datetime64[ns]\n",
            " 4   start_station_name     object        \n",
            " 5   start_station_id       object        \n",
            " 6   end_station_name       object        \n",
            " 7   end_station_id         object        \n",
            " 8   start_lat              float64       \n",
            " 9   start_lng              float64       \n",
            " 10  end_lat                float64       \n",
            " 11  end_lng                float64       \n",
            " 12  member_casual          object        \n",
            " 13  hour                   int32         \n",
            " 14  day_of_week            object        \n",
            " 15  month                  int32         \n",
            " 16  trip_duration_minutes  float64       \n",
            "dtypes: datetime64[ns](2), float64(5), int32(2), object(8)\n",
            "memory usage: 22.2+ GB\n"
          ]
        }
      ],
      "source": [
        "import pandas as pd\n",
        "import os\n",
        "from google.colab import drive\n",
        "\n",
        "# 1. Mounting Google Drive\n",
        "print(\"Connecting to Google Drive...\")\n",
        "drive.mount('/content/drive', force_remount=True)\n",
        "print(\"Drive connected!\")\n",
        "\n",
        "#path to cleaned master file\n",
        "processed_data_path = \"/content/drive/MyDrive/citi_bike_project/processed_data/\"\n",
        "cleaned_file = os.path.join(processed_data_path, \"citibike_cleaned.parquet\")\n",
        "\n",
        "\n",
        "\n",
        "df = pd.read_parquet(cleaned_file)\n",
        "\n",
        "print(\"Full dataset loaded successfully!\")\n",
        "df.info()"
      ]
    },
    {
      "cell_type": "code",
      "source": [
        "df.drop(columns=['ride_id','start_station_id','end_station_id'],inplace=True)"
      ],
      "metadata": {
        "id": "U_w5EhxF_k8p"
      },
      "execution_count": null,
      "outputs": []
    },
    {
      "cell_type": "code",
      "source": [
        "shape = df.shape\n",
        "print(f\"Total Rows:    {shape[0]:,}\")\n",
        "print(f\"Total Columns: {shape[1]}\")"
      ],
      "metadata": {
        "colab": {
          "base_uri": "https://localhost:8080/"
        },
        "id": "iWnGt7qjRjSZ",
        "outputId": "c5529143-bc7f-4718-ae45-0e41b4b3b04d"
      },
      "execution_count": null,
      "outputs": [
        {
          "output_type": "stream",
          "name": "stdout",
          "text": [
            "Total Rows:    186,184,520\n",
            "Total Columns: 14\n"
          ]
        }
      ]
    },
    {
      "cell_type": "markdown",
      "source": [
        "# Statistical Analysis"
      ],
      "metadata": {
        "id": "atcJhyb422VM"
      }
    },
    {
      "cell_type": "code",
      "source": [
        "df.describe()"
      ],
      "metadata": {
        "colab": {
          "base_uri": "https://localhost:8080/",
          "height": 419
        },
        "id": "RN6BuViR2cG1",
        "outputId": "b952530e-ce31-42f9-ce6b-07f8d95971ce"
      },
      "execution_count": null,
      "outputs": [
        {
          "output_type": "execute_result",
          "data": {
            "text/plain": [
              "                          started_at                       ended_at  \\\n",
              "count                      186184520                      186184520   \n",
              "mean   2023-04-26 01:44:16.430809600  2023-04-26 02:04:05.752144384   \n",
              "min       2019-01-19 18:24:31.851000     2020-01-01 00:00:17.705000   \n",
              "25%       2021-12-28 16:14:47.068000  2021-12-28 16:38:16.953999872   \n",
              "50%       2023-07-12 18:52:51.828000  2023-07-12 19:06:43.217999872   \n",
              "75%    2024-08-31 00:48:28.077500160  2024-08-31 01:06:08.149750016   \n",
              "max       2025-08-31 23:58:17.885000     2025-08-31 23:59:59.697000   \n",
              "std                              NaN                            NaN   \n",
              "\n",
              "          start_lat     start_lng       end_lat       end_lng          hour  \\\n",
              "count  1.861240e+08  1.861240e+08  1.857269e+08  1.857269e+08  1.861845e+08   \n",
              "mean   4.073916e+01 -7.397360e+01  4.073892e+01 -7.397364e+01  1.409238e+01   \n",
              "min    3.401486e+01 -1.184815e+02  0.000000e+00 -1.184815e+02  0.000000e+00   \n",
              "25%    4.071485e+01 -7.399280e+01  4.071474e+01 -7.399301e+01  1.000000e+01   \n",
              "50%    4.073810e+01 -7.398047e+01  4.073795e+01 -7.398054e+01  1.500000e+01   \n",
              "75%    4.076227e+01 -7.395748e+01  4.076201e+01 -7.395748e+01  1.800000e+01   \n",
              "max    4.550597e+01 -7.356895e+01  4.550597e+01  0.000000e+00  2.300000e+01   \n",
              "std    3.949877e-02  3.009345e-02  5.826735e-02  8.352451e-02  5.011655e+00   \n",
              "\n",
              "              month  trip_duration_minutes  \n",
              "count  1.861845e+08           1.861845e+08  \n",
              "mean   6.746242e+00           1.982202e+01  \n",
              "min    1.000000e+00          -5.798077e+01  \n",
              "25%    5.000000e+00           5.619900e+00  \n",
              "50%    7.000000e+00           9.857050e+00  \n",
              "75%    9.000000e+00           1.748422e+01  \n",
              "max    1.200000e+01           1.041872e+06  \n",
              "std    2.967630e+00           1.033822e+03  "
            ],
            "text/html": [
              "\n",
              "  <div id=\"df-5da654a1-0120-48f5-8993-2b59cc8b4793\" class=\"colab-df-container\">\n",
              "    <div>\n",
              "<style scoped>\n",
              "    .dataframe tbody tr th:only-of-type {\n",
              "        vertical-align: middle;\n",
              "    }\n",
              "\n",
              "    .dataframe tbody tr th {\n",
              "        vertical-align: top;\n",
              "    }\n",
              "\n",
              "    .dataframe thead th {\n",
              "        text-align: right;\n",
              "    }\n",
              "</style>\n",
              "<table border=\"1\" class=\"dataframe\">\n",
              "  <thead>\n",
              "    <tr style=\"text-align: right;\">\n",
              "      <th></th>\n",
              "      <th>started_at</th>\n",
              "      <th>ended_at</th>\n",
              "      <th>start_lat</th>\n",
              "      <th>start_lng</th>\n",
              "      <th>end_lat</th>\n",
              "      <th>end_lng</th>\n",
              "      <th>hour</th>\n",
              "      <th>month</th>\n",
              "      <th>trip_duration_minutes</th>\n",
              "    </tr>\n",
              "  </thead>\n",
              "  <tbody>\n",
              "    <tr>\n",
              "      <th>count</th>\n",
              "      <td>186184520</td>\n",
              "      <td>186184520</td>\n",
              "      <td>1.861240e+08</td>\n",
              "      <td>1.861240e+08</td>\n",
              "      <td>1.857269e+08</td>\n",
              "      <td>1.857269e+08</td>\n",
              "      <td>1.861845e+08</td>\n",
              "      <td>1.861845e+08</td>\n",
              "      <td>1.861845e+08</td>\n",
              "    </tr>\n",
              "    <tr>\n",
              "      <th>mean</th>\n",
              "      <td>2023-04-26 01:44:16.430809600</td>\n",
              "      <td>2023-04-26 02:04:05.752144384</td>\n",
              "      <td>4.073916e+01</td>\n",
              "      <td>-7.397360e+01</td>\n",
              "      <td>4.073892e+01</td>\n",
              "      <td>-7.397364e+01</td>\n",
              "      <td>1.409238e+01</td>\n",
              "      <td>6.746242e+00</td>\n",
              "      <td>1.982202e+01</td>\n",
              "    </tr>\n",
              "    <tr>\n",
              "      <th>min</th>\n",
              "      <td>2019-01-19 18:24:31.851000</td>\n",
              "      <td>2020-01-01 00:00:17.705000</td>\n",
              "      <td>3.401486e+01</td>\n",
              "      <td>-1.184815e+02</td>\n",
              "      <td>0.000000e+00</td>\n",
              "      <td>-1.184815e+02</td>\n",
              "      <td>0.000000e+00</td>\n",
              "      <td>1.000000e+00</td>\n",
              "      <td>-5.798077e+01</td>\n",
              "    </tr>\n",
              "    <tr>\n",
              "      <th>25%</th>\n",
              "      <td>2021-12-28 16:14:47.068000</td>\n",
              "      <td>2021-12-28 16:38:16.953999872</td>\n",
              "      <td>4.071485e+01</td>\n",
              "      <td>-7.399280e+01</td>\n",
              "      <td>4.071474e+01</td>\n",
              "      <td>-7.399301e+01</td>\n",
              "      <td>1.000000e+01</td>\n",
              "      <td>5.000000e+00</td>\n",
              "      <td>5.619900e+00</td>\n",
              "    </tr>\n",
              "    <tr>\n",
              "      <th>50%</th>\n",
              "      <td>2023-07-12 18:52:51.828000</td>\n",
              "      <td>2023-07-12 19:06:43.217999872</td>\n",
              "      <td>4.073810e+01</td>\n",
              "      <td>-7.398047e+01</td>\n",
              "      <td>4.073795e+01</td>\n",
              "      <td>-7.398054e+01</td>\n",
              "      <td>1.500000e+01</td>\n",
              "      <td>7.000000e+00</td>\n",
              "      <td>9.857050e+00</td>\n",
              "    </tr>\n",
              "    <tr>\n",
              "      <th>75%</th>\n",
              "      <td>2024-08-31 00:48:28.077500160</td>\n",
              "      <td>2024-08-31 01:06:08.149750016</td>\n",
              "      <td>4.076227e+01</td>\n",
              "      <td>-7.395748e+01</td>\n",
              "      <td>4.076201e+01</td>\n",
              "      <td>-7.395748e+01</td>\n",
              "      <td>1.800000e+01</td>\n",
              "      <td>9.000000e+00</td>\n",
              "      <td>1.748422e+01</td>\n",
              "    </tr>\n",
              "    <tr>\n",
              "      <th>max</th>\n",
              "      <td>2025-08-31 23:58:17.885000</td>\n",
              "      <td>2025-08-31 23:59:59.697000</td>\n",
              "      <td>4.550597e+01</td>\n",
              "      <td>-7.356895e+01</td>\n",
              "      <td>4.550597e+01</td>\n",
              "      <td>0.000000e+00</td>\n",
              "      <td>2.300000e+01</td>\n",
              "      <td>1.200000e+01</td>\n",
              "      <td>1.041872e+06</td>\n",
              "    </tr>\n",
              "    <tr>\n",
              "      <th>std</th>\n",
              "      <td>NaN</td>\n",
              "      <td>NaN</td>\n",
              "      <td>3.949877e-02</td>\n",
              "      <td>3.009345e-02</td>\n",
              "      <td>5.826735e-02</td>\n",
              "      <td>8.352451e-02</td>\n",
              "      <td>5.011655e+00</td>\n",
              "      <td>2.967630e+00</td>\n",
              "      <td>1.033822e+03</td>\n",
              "    </tr>\n",
              "  </tbody>\n",
              "</table>\n",
              "</div>\n",
              "    <div class=\"colab-df-buttons\">\n",
              "\n",
              "  <div class=\"colab-df-container\">\n",
              "    <button class=\"colab-df-convert\" onclick=\"convertToInteractive('df-5da654a1-0120-48f5-8993-2b59cc8b4793')\"\n",
              "            title=\"Convert this dataframe to an interactive table.\"\n",
              "            style=\"display:none;\">\n",
              "\n",
              "  <svg xmlns=\"http://www.w3.org/2000/svg\" height=\"24px\" viewBox=\"0 -960 960 960\">\n",
              "    <path d=\"M120-120v-720h720v720H120Zm60-500h600v-160H180v160Zm220 220h160v-160H400v160Zm0 220h160v-160H400v160ZM180-400h160v-160H180v160Zm440 0h160v-160H620v160ZM180-180h160v-160H180v160Zm440 0h160v-160H620v160Z\"/>\n",
              "  </svg>\n",
              "    </button>\n",
              "\n",
              "  <style>\n",
              "    .colab-df-container {\n",
              "      display:flex;\n",
              "      gap: 12px;\n",
              "    }\n",
              "\n",
              "    .colab-df-convert {\n",
              "      background-color: #E8F0FE;\n",
              "      border: none;\n",
              "      border-radius: 50%;\n",
              "      cursor: pointer;\n",
              "      display: none;\n",
              "      fill: #1967D2;\n",
              "      height: 32px;\n",
              "      padding: 0 0 0 0;\n",
              "      width: 32px;\n",
              "    }\n",
              "\n",
              "    .colab-df-convert:hover {\n",
              "      background-color: #E2EBFA;\n",
              "      box-shadow: 0px 1px 2px rgba(60, 64, 67, 0.3), 0px 1px 3px 1px rgba(60, 64, 67, 0.15);\n",
              "      fill: #174EA6;\n",
              "    }\n",
              "\n",
              "    .colab-df-buttons div {\n",
              "      margin-bottom: 4px;\n",
              "    }\n",
              "\n",
              "    [theme=dark] .colab-df-convert {\n",
              "      background-color: #3B4455;\n",
              "      fill: #D2E3FC;\n",
              "    }\n",
              "\n",
              "    [theme=dark] .colab-df-convert:hover {\n",
              "      background-color: #434B5C;\n",
              "      box-shadow: 0px 1px 3px 1px rgba(0, 0, 0, 0.15);\n",
              "      filter: drop-shadow(0px 1px 2px rgba(0, 0, 0, 0.3));\n",
              "      fill: #FFFFFF;\n",
              "    }\n",
              "  </style>\n",
              "\n",
              "    <script>\n",
              "      const buttonEl =\n",
              "        document.querySelector('#df-5da654a1-0120-48f5-8993-2b59cc8b4793 button.colab-df-convert');\n",
              "      buttonEl.style.display =\n",
              "        google.colab.kernel.accessAllowed ? 'block' : 'none';\n",
              "\n",
              "      async function convertToInteractive(key) {\n",
              "        const element = document.querySelector('#df-5da654a1-0120-48f5-8993-2b59cc8b4793');\n",
              "        const dataTable =\n",
              "          await google.colab.kernel.invokeFunction('convertToInteractive',\n",
              "                                                    [key], {});\n",
              "        if (!dataTable) return;\n",
              "\n",
              "        const docLinkHtml = 'Like what you see? Visit the ' +\n",
              "          '<a target=\"_blank\" href=https://colab.research.google.com/notebooks/data_table.ipynb>data table notebook</a>'\n",
              "          + ' to learn more about interactive tables.';\n",
              "        element.innerHTML = '';\n",
              "        dataTable['output_type'] = 'display_data';\n",
              "        await google.colab.output.renderOutput(dataTable, element);\n",
              "        const docLink = document.createElement('div');\n",
              "        docLink.innerHTML = docLinkHtml;\n",
              "        element.appendChild(docLink);\n",
              "      }\n",
              "    </script>\n",
              "  </div>\n",
              "\n",
              "\n",
              "    <div id=\"df-ab9c730d-c5fe-424f-a601-9dd1645f4654\">\n",
              "      <button class=\"colab-df-quickchart\" onclick=\"quickchart('df-ab9c730d-c5fe-424f-a601-9dd1645f4654')\"\n",
              "                title=\"Suggest charts\"\n",
              "                style=\"display:none;\">\n",
              "\n",
              "<svg xmlns=\"http://www.w3.org/2000/svg\" height=\"24px\"viewBox=\"0 0 24 24\"\n",
              "     width=\"24px\">\n",
              "    <g>\n",
              "        <path d=\"M19 3H5c-1.1 0-2 .9-2 2v14c0 1.1.9 2 2 2h14c1.1 0 2-.9 2-2V5c0-1.1-.9-2-2-2zM9 17H7v-7h2v7zm4 0h-2V7h2v10zm4 0h-2v-4h2v4z\"/>\n",
              "    </g>\n",
              "</svg>\n",
              "      </button>\n",
              "\n",
              "<style>\n",
              "  .colab-df-quickchart {\n",
              "      --bg-color: #E8F0FE;\n",
              "      --fill-color: #1967D2;\n",
              "      --hover-bg-color: #E2EBFA;\n",
              "      --hover-fill-color: #174EA6;\n",
              "      --disabled-fill-color: #AAA;\n",
              "      --disabled-bg-color: #DDD;\n",
              "  }\n",
              "\n",
              "  [theme=dark] .colab-df-quickchart {\n",
              "      --bg-color: #3B4455;\n",
              "      --fill-color: #D2E3FC;\n",
              "      --hover-bg-color: #434B5C;\n",
              "      --hover-fill-color: #FFFFFF;\n",
              "      --disabled-bg-color: #3B4455;\n",
              "      --disabled-fill-color: #666;\n",
              "  }\n",
              "\n",
              "  .colab-df-quickchart {\n",
              "    background-color: var(--bg-color);\n",
              "    border: none;\n",
              "    border-radius: 50%;\n",
              "    cursor: pointer;\n",
              "    display: none;\n",
              "    fill: var(--fill-color);\n",
              "    height: 32px;\n",
              "    padding: 0;\n",
              "    width: 32px;\n",
              "  }\n",
              "\n",
              "  .colab-df-quickchart:hover {\n",
              "    background-color: var(--hover-bg-color);\n",
              "    box-shadow: 0 1px 2px rgba(60, 64, 67, 0.3), 0 1px 3px 1px rgba(60, 64, 67, 0.15);\n",
              "    fill: var(--button-hover-fill-color);\n",
              "  }\n",
              "\n",
              "  .colab-df-quickchart-complete:disabled,\n",
              "  .colab-df-quickchart-complete:disabled:hover {\n",
              "    background-color: var(--disabled-bg-color);\n",
              "    fill: var(--disabled-fill-color);\n",
              "    box-shadow: none;\n",
              "  }\n",
              "\n",
              "  .colab-df-spinner {\n",
              "    border: 2px solid var(--fill-color);\n",
              "    border-color: transparent;\n",
              "    border-bottom-color: var(--fill-color);\n",
              "    animation:\n",
              "      spin 1s steps(1) infinite;\n",
              "  }\n",
              "\n",
              "  @keyframes spin {\n",
              "    0% {\n",
              "      border-color: transparent;\n",
              "      border-bottom-color: var(--fill-color);\n",
              "      border-left-color: var(--fill-color);\n",
              "    }\n",
              "    20% {\n",
              "      border-color: transparent;\n",
              "      border-left-color: var(--fill-color);\n",
              "      border-top-color: var(--fill-color);\n",
              "    }\n",
              "    30% {\n",
              "      border-color: transparent;\n",
              "      border-left-color: var(--fill-color);\n",
              "      border-top-color: var(--fill-color);\n",
              "      border-right-color: var(--fill-color);\n",
              "    }\n",
              "    40% {\n",
              "      border-color: transparent;\n",
              "      border-right-color: var(--fill-color);\n",
              "      border-top-color: var(--fill-color);\n",
              "    }\n",
              "    60% {\n",
              "      border-color: transparent;\n",
              "      border-right-color: var(--fill-color);\n",
              "    }\n",
              "    80% {\n",
              "      border-color: transparent;\n",
              "      border-right-color: var(--fill-color);\n",
              "      border-bottom-color: var(--fill-color);\n",
              "    }\n",
              "    90% {\n",
              "      border-color: transparent;\n",
              "      border-bottom-color: var(--fill-color);\n",
              "    }\n",
              "  }\n",
              "</style>\n",
              "\n",
              "      <script>\n",
              "        async function quickchart(key) {\n",
              "          const quickchartButtonEl =\n",
              "            document.querySelector('#' + key + ' button');\n",
              "          quickchartButtonEl.disabled = true;  // To prevent multiple clicks.\n",
              "          quickchartButtonEl.classList.add('colab-df-spinner');\n",
              "          try {\n",
              "            const charts = await google.colab.kernel.invokeFunction(\n",
              "                'suggestCharts', [key], {});\n",
              "          } catch (error) {\n",
              "            console.error('Error during call to suggestCharts:', error);\n",
              "          }\n",
              "          quickchartButtonEl.classList.remove('colab-df-spinner');\n",
              "          quickchartButtonEl.classList.add('colab-df-quickchart-complete');\n",
              "        }\n",
              "        (() => {\n",
              "          let quickchartButtonEl =\n",
              "            document.querySelector('#df-ab9c730d-c5fe-424f-a601-9dd1645f4654 button');\n",
              "          quickchartButtonEl.style.display =\n",
              "            google.colab.kernel.accessAllowed ? 'block' : 'none';\n",
              "        })();\n",
              "      </script>\n",
              "    </div>\n",
              "\n",
              "    </div>\n",
              "  </div>\n"
            ],
            "application/vnd.google.colaboratory.intrinsic+json": {
              "type": "dataframe",
              "summary": "{\n  \"name\": \"df\",\n  \"rows\": 8,\n  \"fields\": [\n    {\n      \"column\": \"started_at\",\n      \"properties\": {\n        \"dtype\": \"date\",\n        \"min\": \"1970-01-01 00:00:00.186184520\",\n        \"max\": \"2025-08-31 23:58:17.885000\",\n        \"num_unique_values\": 7,\n        \"samples\": [\n          \"186184520\",\n          \"2023-04-26 01:44:16.430809600\",\n          \"2024-08-31 00:48:28.077500160\"\n        ],\n        \"semantic_type\": \"\",\n        \"description\": \"\"\n      }\n    },\n    {\n      \"column\": \"ended_at\",\n      \"properties\": {\n        \"dtype\": \"date\",\n        \"min\": \"1970-01-01 00:00:00.186184520\",\n        \"max\": \"2025-08-31 23:59:59.697000\",\n        \"num_unique_values\": 7,\n        \"samples\": [\n          \"186184520\",\n          \"2023-04-26 02:04:05.752144384\",\n          \"2024-08-31 01:06:08.149750016\"\n        ],\n        \"semantic_type\": \"\",\n        \"description\": \"\"\n      }\n    },\n    {\n      \"column\": \"start_lat\",\n      \"properties\": {\n        \"dtype\": \"number\",\n        \"std\": 65804760.78970822,\n        \"min\": 0.039498772948208145,\n        \"max\": 186124005.0,\n        \"num_unique_values\": 8,\n        \"samples\": [\n          40.73916234144376,\n          40.76227205,\n          186124005.0\n        ],\n        \"semantic_type\": \"\",\n        \"description\": \"\"\n      }\n    },\n    {\n      \"column\": \"start_lng\",\n      \"properties\": {\n        \"dtype\": \"number\",\n        \"std\": 65804797.68247798,\n        \"min\": -118.481518,\n        \"max\": 186124005.0,\n        \"num_unique_values\": 8,\n        \"samples\": [\n          -73.9736031964658,\n          -73.957481,\n          186124005.0\n        ],\n        \"semantic_type\": \"\",\n        \"description\": \"\"\n      }\n    },\n    {\n      \"column\": \"end_lat\",\n      \"properties\": {\n        \"dtype\": \"number\",\n        \"std\": 65664361.15210469,\n        \"min\": 0.0,\n        \"max\": 185726890.0,\n        \"num_unique_values\": 8,\n        \"samples\": [\n          40.738915131474485,\n          40.762009,\n          185726890.0\n        ],\n        \"semantic_type\": \"\",\n        \"description\": \"\"\n      }\n    },\n    {\n      \"column\": \"end_lng\",\n      \"properties\": {\n        \"dtype\": \"number\",\n        \"std\": 65664392.609301224,\n        \"min\": -118.481518,\n        \"max\": 185726890.0,\n        \"num_unique_values\": 8,\n        \"samples\": [\n          -73.97363938126911,\n          -73.957481,\n          185726890.0\n        ],\n        \"semantic_type\": \"\",\n        \"description\": \"\"\n      }\n    },\n    {\n      \"column\": \"hour\",\n      \"properties\": {\n        \"dtype\": \"number\",\n        \"std\": 65826164.02357869,\n        \"min\": 0.0,\n        \"max\": 186184520.0,\n        \"num_unique_values\": 8,\n        \"samples\": [\n          14.092380113019063,\n          18.0,\n          186184520.0\n        ],\n        \"semantic_type\": \"\",\n        \"description\": \"\"\n      }\n    },\n    {\n      \"column\": \"month\",\n      \"properties\": {\n        \"dtype\": \"number\",\n        \"std\": 65826166.11409733,\n        \"min\": 1.0,\n        \"max\": 186184520.0,\n        \"num_unique_values\": 8,\n        \"samples\": [\n          6.746242485680335,\n          9.0,\n          186184520.0\n        ],\n        \"semantic_type\": \"\",\n        \"description\": \"\"\n      }\n    },\n    {\n      \"column\": \"trip_duration_minutes\",\n      \"properties\": {\n        \"dtype\": \"number\",\n        \"std\": 65774503.97918788,\n        \"min\": -57.98076666666667,\n        \"max\": 186184520.0,\n        \"num_unique_values\": 8,\n        \"samples\": [\n          19.822022238180306,\n          17.48421666666667,\n          186184520.0\n        ],\n        \"semantic_type\": \"\",\n        \"description\": \"\"\n      }\n    }\n  ]\n}"
            }
          },
          "metadata": {},
          "execution_count": 6
        }
      ]
    },
    {
      "cell_type": "markdown",
      "source": [
        "# CHANGING DATA TYPES\n"
      ],
      "metadata": {
        "id": "MyBp4Al9LNiL"
      }
    },
    {
      "cell_type": "code",
      "source": [
        "print('dataset info')\n",
        "df.info()"
      ],
      "metadata": {
        "colab": {
          "base_uri": "https://localhost:8080/"
        },
        "id": "G4QE-imfOVld",
        "outputId": "bc26908e-e002-4011-b68c-51d0fa6277e6"
      },
      "execution_count": null,
      "outputs": [
        {
          "output_type": "stream",
          "name": "stdout",
          "text": [
            "dataset info\n",
            "<class 'pandas.core.frame.DataFrame'>\n",
            "RangeIndex: 186184520 entries, 0 to 186184519\n",
            "Data columns (total 14 columns):\n",
            " #   Column                 Dtype         \n",
            "---  ------                 -----         \n",
            " 0   rideable_type          object        \n",
            " 1   started_at             datetime64[ns]\n",
            " 2   ended_at               datetime64[ns]\n",
            " 3   start_station_name     object        \n",
            " 4   end_station_name       object        \n",
            " 5   start_lat              float64       \n",
            " 6   start_lng              float64       \n",
            " 7   end_lat                float64       \n",
            " 8   end_lng                float64       \n",
            " 9   member_casual          object        \n",
            " 10  hour                   int32         \n",
            " 11  day_of_week            object        \n",
            " 12  month                  int32         \n",
            " 13  trip_duration_minutes  float64       \n",
            "dtypes: datetime64[ns](2), float64(5), int32(2), object(5)\n",
            "memory usage: 18.0+ GB\n"
          ]
        }
      ]
    },
    {
      "cell_type": "code",
      "source": [
        "cols_to_change_dtype = ['start_station_name','rideable_type',\n",
        "                        'member_casual','hour','day_of_week','end_station_name']\n",
        "\n",
        "\n",
        "for i in cols_to_change_dtype:\n",
        "  df[i] = df[i].astype('category')"
      ],
      "metadata": {
        "id": "_0FTCbYpKZAb"
      },
      "execution_count": null,
      "outputs": []
    },
    {
      "cell_type": "code",
      "source": [
        "print('dataset after changing datatypes')\n",
        "df.info()"
      ],
      "metadata": {
        "id": "gQ8AzfRKhG9m",
        "colab": {
          "base_uri": "https://localhost:8080/"
        },
        "outputId": "24023526-9a70-4919-f1e3-e2a57988f2ba"
      },
      "execution_count": null,
      "outputs": [
        {
          "output_type": "stream",
          "name": "stdout",
          "text": [
            "dataset after changing datatypes\n",
            "<class 'pandas.core.frame.DataFrame'>\n",
            "RangeIndex: 186184520 entries, 0 to 186184519\n",
            "Data columns (total 14 columns):\n",
            " #   Column                 Dtype         \n",
            "---  ------                 -----         \n",
            " 0   rideable_type          category      \n",
            " 1   started_at             datetime64[ns]\n",
            " 2   ended_at               datetime64[ns]\n",
            " 3   start_station_name     category      \n",
            " 4   end_station_name       category      \n",
            " 5   start_lat              float64       \n",
            " 6   start_lng              float64       \n",
            " 7   end_lat                float64       \n",
            " 8   end_lng                float64       \n",
            " 9   member_casual          category      \n",
            " 10  hour                   category      \n",
            " 11  day_of_week            category      \n",
            " 12  month                  int32         \n",
            " 13  trip_duration_minutes  float64       \n",
            "dtypes: category(6), datetime64[ns](2), float64(5), int32(1)\n",
            "memory usage: 11.8 GB\n"
          ]
        }
      ]
    },
    {
      "cell_type": "markdown",
      "source": [
        "# HANDLING NaN & MISSING VALUES"
      ],
      "metadata": {
        "id": "uHZS3vvrE8Yr"
      }
    },
    {
      "cell_type": "code",
      "source": [
        "print(\"---Missing Value Counts ---\")\n",
        "print(df.isna().sum())"
      ],
      "metadata": {
        "colab": {
          "base_uri": "https://localhost:8080/"
        },
        "id": "Z3Sf2pTzRXcj",
        "outputId": "57251112-074e-43bb-861c-e06798a5d6ca"
      },
      "execution_count": null,
      "outputs": [
        {
          "output_type": "stream",
          "name": "stdout",
          "text": [
            "---Missing Value Counts ---\n",
            "rideable_type                 0\n",
            "started_at                    0\n",
            "ended_at                      0\n",
            "start_station_name        61162\n",
            "end_station_name         513389\n",
            "start_lat                 60515\n",
            "start_lng                 60515\n",
            "end_lat                  457630\n",
            "end_lng                  457630\n",
            "member_casual                 0\n",
            "hour                          0\n",
            "day_of_week                   0\n",
            "month                         0\n",
            "trip_duration_minutes         0\n",
            "dtype: int64\n"
          ]
        }
      ]
    },
    {
      "cell_type": "code",
      "source": [
        "\n",
        "print(f'no of rows before deleting null values {len(df)}')\n",
        "\n",
        "df.dropna(subset=['start_station_name','end_station_name','start_lat','start_lng',\n",
        "                  'end_lat','end_lng'], inplace=True)\n",
        "\n",
        "print(' ')\n",
        "print(f'no of rows after deleting null values {len(df)}')\n"
      ],
      "metadata": {
        "colab": {
          "base_uri": "https://localhost:8080/"
        },
        "id": "ZajHtcUoR_19",
        "outputId": "c4697520-e1b1-4c9c-e667-0d314b275399"
      },
      "execution_count": null,
      "outputs": [
        {
          "output_type": "stream",
          "name": "stdout",
          "text": [
            "no of rows before deleting null values 186184520\n",
            " \n",
            "no of rows after deleting null values 185628395\n"
          ]
        }
      ]
    },
    {
      "cell_type": "code",
      "source": [
        "print('after clearing null values')\n",
        "df.isna().sum()"
      ],
      "metadata": {
        "colab": {
          "base_uri": "https://localhost:8080/",
          "height": 534
        },
        "id": "_iikWeQR5P7k",
        "outputId": "a15107eb-161c-4fa1-b548-10625f53e2bc"
      },
      "execution_count": null,
      "outputs": [
        {
          "output_type": "stream",
          "name": "stdout",
          "text": [
            "after clearing null values\n"
          ]
        },
        {
          "output_type": "execute_result",
          "data": {
            "text/plain": [
              "rideable_type            0\n",
              "started_at               0\n",
              "ended_at                 0\n",
              "start_station_name       0\n",
              "end_station_name         0\n",
              "start_lat                0\n",
              "start_lng                0\n",
              "end_lat                  0\n",
              "end_lng                  0\n",
              "member_casual            0\n",
              "hour                     0\n",
              "day_of_week              0\n",
              "month                    0\n",
              "trip_duration_minutes    0\n",
              "dtype: int64"
            ],
            "text/html": [
              "<div>\n",
              "<style scoped>\n",
              "    .dataframe tbody tr th:only-of-type {\n",
              "        vertical-align: middle;\n",
              "    }\n",
              "\n",
              "    .dataframe tbody tr th {\n",
              "        vertical-align: top;\n",
              "    }\n",
              "\n",
              "    .dataframe thead th {\n",
              "        text-align: right;\n",
              "    }\n",
              "</style>\n",
              "<table border=\"1\" class=\"dataframe\">\n",
              "  <thead>\n",
              "    <tr style=\"text-align: right;\">\n",
              "      <th></th>\n",
              "      <th>0</th>\n",
              "    </tr>\n",
              "  </thead>\n",
              "  <tbody>\n",
              "    <tr>\n",
              "      <th>rideable_type</th>\n",
              "      <td>0</td>\n",
              "    </tr>\n",
              "    <tr>\n",
              "      <th>started_at</th>\n",
              "      <td>0</td>\n",
              "    </tr>\n",
              "    <tr>\n",
              "      <th>ended_at</th>\n",
              "      <td>0</td>\n",
              "    </tr>\n",
              "    <tr>\n",
              "      <th>start_station_name</th>\n",
              "      <td>0</td>\n",
              "    </tr>\n",
              "    <tr>\n",
              "      <th>end_station_name</th>\n",
              "      <td>0</td>\n",
              "    </tr>\n",
              "    <tr>\n",
              "      <th>start_lat</th>\n",
              "      <td>0</td>\n",
              "    </tr>\n",
              "    <tr>\n",
              "      <th>start_lng</th>\n",
              "      <td>0</td>\n",
              "    </tr>\n",
              "    <tr>\n",
              "      <th>end_lat</th>\n",
              "      <td>0</td>\n",
              "    </tr>\n",
              "    <tr>\n",
              "      <th>end_lng</th>\n",
              "      <td>0</td>\n",
              "    </tr>\n",
              "    <tr>\n",
              "      <th>member_casual</th>\n",
              "      <td>0</td>\n",
              "    </tr>\n",
              "    <tr>\n",
              "      <th>hour</th>\n",
              "      <td>0</td>\n",
              "    </tr>\n",
              "    <tr>\n",
              "      <th>day_of_week</th>\n",
              "      <td>0</td>\n",
              "    </tr>\n",
              "    <tr>\n",
              "      <th>month</th>\n",
              "      <td>0</td>\n",
              "    </tr>\n",
              "    <tr>\n",
              "      <th>trip_duration_minutes</th>\n",
              "      <td>0</td>\n",
              "    </tr>\n",
              "  </tbody>\n",
              "</table>\n",
              "</div><br><label><b>dtype:</b> int64</label>"
            ]
          },
          "metadata": {},
          "execution_count": 16
        }
      ]
    },
    {
      "cell_type": "markdown",
      "source": [
        "# Checking Duplicates"
      ],
      "metadata": {
        "id": "4Y6uRIxuzaym"
      }
    },
    {
      "cell_type": "code",
      "source": [
        "duplicates = df.duplicated()\n",
        "duplicate_rows = df[df.duplicated()]\n",
        "print(duplicate_rows)"
      ],
      "metadata": {
        "colab": {
          "base_uri": "https://localhost:8080/"
        },
        "id": "FAIOdSVEM9A2",
        "outputId": "6fa86a08-b37e-498d-ca12-f739cd4ae15b"
      },
      "execution_count": null,
      "outputs": [
        {
          "output_type": "stream",
          "name": "stdout",
          "text": [
            "Empty DataFrame\n",
            "Columns: [rideable_type, started_at, ended_at, start_station_name, end_station_name, start_lat, start_lng, end_lat, end_lng, member_casual, hour, day_of_week, month, trip_duration_minutes]\n",
            "Index: []\n"
          ]
        }
      ]
    },
    {
      "cell_type": "markdown",
      "source": [
        "# HANDLING OUTLIERS"
      ],
      "metadata": {
        "id": "Vy_PAXZdbonN"
      }
    },
    {
      "cell_type": "code",
      "source": [
        "df['trip_duration_minutes'].describe()"
      ],
      "metadata": {
        "colab": {
          "base_uri": "https://localhost:8080/",
          "height": 331
        },
        "id": "9T3lOSRebrud",
        "outputId": "cb59a04b-600f-4630-8fc7-c0986976c11e"
      },
      "execution_count": null,
      "outputs": [
        {
          "output_type": "execute_result",
          "data": {
            "text/plain": [
              "count    1.856284e+08\n",
              "mean     1.816991e+01\n",
              "std      9.597131e+02\n",
              "min     -5.798077e+01\n",
              "25%      5.611783e+00\n",
              "50%      9.834233e+00\n",
              "75%      1.741233e+01\n",
              "max      1.041872e+06\n",
              "Name: trip_duration_minutes, dtype: float64"
            ],
            "text/html": [
              "<div>\n",
              "<style scoped>\n",
              "    .dataframe tbody tr th:only-of-type {\n",
              "        vertical-align: middle;\n",
              "    }\n",
              "\n",
              "    .dataframe tbody tr th {\n",
              "        vertical-align: top;\n",
              "    }\n",
              "\n",
              "    .dataframe thead th {\n",
              "        text-align: right;\n",
              "    }\n",
              "</style>\n",
              "<table border=\"1\" class=\"dataframe\">\n",
              "  <thead>\n",
              "    <tr style=\"text-align: right;\">\n",
              "      <th></th>\n",
              "      <th>trip_duration_minutes</th>\n",
              "    </tr>\n",
              "  </thead>\n",
              "  <tbody>\n",
              "    <tr>\n",
              "      <th>count</th>\n",
              "      <td>1.856284e+08</td>\n",
              "    </tr>\n",
              "    <tr>\n",
              "      <th>mean</th>\n",
              "      <td>1.816991e+01</td>\n",
              "    </tr>\n",
              "    <tr>\n",
              "      <th>std</th>\n",
              "      <td>9.597131e+02</td>\n",
              "    </tr>\n",
              "    <tr>\n",
              "      <th>min</th>\n",
              "      <td>-5.798077e+01</td>\n",
              "    </tr>\n",
              "    <tr>\n",
              "      <th>25%</th>\n",
              "      <td>5.611783e+00</td>\n",
              "    </tr>\n",
              "    <tr>\n",
              "      <th>50%</th>\n",
              "      <td>9.834233e+00</td>\n",
              "    </tr>\n",
              "    <tr>\n",
              "      <th>75%</th>\n",
              "      <td>1.741233e+01</td>\n",
              "    </tr>\n",
              "    <tr>\n",
              "      <th>max</th>\n",
              "      <td>1.041872e+06</td>\n",
              "    </tr>\n",
              "  </tbody>\n",
              "</table>\n",
              "</div><br><label><b>dtype:</b> float64</label>"
            ]
          },
          "metadata": {},
          "execution_count": 19
        }
      ]
    },
    {
      "cell_type": "code",
      "source": [
        "print('Handling outliers in \"TRIP DURATION MINUTES\"....')\n",
        "print(f'original number of rows {len(df):,}')\n",
        "\n",
        "df= df[(df['trip_duration_minutes']>1) & (df['trip_duration_minutes']<=180)]\n",
        "print(f'number of rows after handling outliers {len(df):,}')\n"
      ],
      "metadata": {
        "colab": {
          "base_uri": "https://localhost:8080/"
        },
        "id": "Dv0SKY7oc63N",
        "outputId": "7b75923a-ee1a-4975-adfa-a9989454c021"
      },
      "execution_count": null,
      "outputs": [
        {
          "output_type": "stream",
          "name": "stdout",
          "text": [
            "Handling outliers in \"TRIP DURATION MINUTES\"....\n",
            "original number of rows 185,628,395\n",
            "number of rows after handling outliers 185,317,713\n"
          ]
        }
      ]
    },
    {
      "cell_type": "code",
      "source": [
        "df['trip_duration_minutes'].describe()"
      ],
      "metadata": {
        "colab": {
          "base_uri": "https://localhost:8080/",
          "height": 331
        },
        "id": "VdFXuPvFdOiu",
        "outputId": "24d02338-3323-476b-b9f4-8d1bc2a81868"
      },
      "execution_count": null,
      "outputs": [
        {
          "output_type": "execute_result",
          "data": {
            "text/plain": [
              "count    1.853177e+08\n",
              "mean     1.374975e+01\n",
              "std      1.333466e+01\n",
              "min      1.000083e+00\n",
              "25%      5.605783e+00\n",
              "50%      9.817033e+00\n",
              "75%      1.735460e+01\n",
              "max      1.800000e+02\n",
              "Name: trip_duration_minutes, dtype: float64"
            ],
            "text/html": [
              "<div>\n",
              "<style scoped>\n",
              "    .dataframe tbody tr th:only-of-type {\n",
              "        vertical-align: middle;\n",
              "    }\n",
              "\n",
              "    .dataframe tbody tr th {\n",
              "        vertical-align: top;\n",
              "    }\n",
              "\n",
              "    .dataframe thead th {\n",
              "        text-align: right;\n",
              "    }\n",
              "</style>\n",
              "<table border=\"1\" class=\"dataframe\">\n",
              "  <thead>\n",
              "    <tr style=\"text-align: right;\">\n",
              "      <th></th>\n",
              "      <th>trip_duration_minutes</th>\n",
              "    </tr>\n",
              "  </thead>\n",
              "  <tbody>\n",
              "    <tr>\n",
              "      <th>count</th>\n",
              "      <td>1.853177e+08</td>\n",
              "    </tr>\n",
              "    <tr>\n",
              "      <th>mean</th>\n",
              "      <td>1.374975e+01</td>\n",
              "    </tr>\n",
              "    <tr>\n",
              "      <th>std</th>\n",
              "      <td>1.333466e+01</td>\n",
              "    </tr>\n",
              "    <tr>\n",
              "      <th>min</th>\n",
              "      <td>1.000083e+00</td>\n",
              "    </tr>\n",
              "    <tr>\n",
              "      <th>25%</th>\n",
              "      <td>5.605783e+00</td>\n",
              "    </tr>\n",
              "    <tr>\n",
              "      <th>50%</th>\n",
              "      <td>9.817033e+00</td>\n",
              "    </tr>\n",
              "    <tr>\n",
              "      <th>75%</th>\n",
              "      <td>1.735460e+01</td>\n",
              "    </tr>\n",
              "    <tr>\n",
              "      <th>max</th>\n",
              "      <td>1.800000e+02</td>\n",
              "    </tr>\n",
              "  </tbody>\n",
              "</table>\n",
              "</div><br><label><b>dtype:</b> float64</label>"
            ]
          },
          "metadata": {},
          "execution_count": 3
        }
      ]
    },
    {
      "cell_type": "code",
      "source": [
        "import seaborn as sns\n",
        "import matplotlib.pyplot as plt\n",
        "import matplotlib.ticker as mticker\n",
        "sns.set_style(\"whitegrid\")"
      ],
      "metadata": {
        "id": "U-kaun-2FeeF"
      },
      "execution_count": null,
      "outputs": []
    },
    {
      "cell_type": "code",
      "source": [
        "plt.figure(figsize=(8,6))\n",
        "ax = sns.countplot(x='member_casual',data=df,hue='member_casual',legend=False)\n",
        "plt.title('trip count by member vs casual')\n",
        "plt.xlabel('Rider Type')\n",
        "plt.ylabel('Total Number of Trips (in Millions)')\n",
        "\n",
        "def millions_formatter(x, pos):\n",
        "    return f'{x / 1e6:.0f}M'\n",
        "\n",
        "ax.yaxis.set_major_formatter(mticker.FuncFormatter(millions_formatter))\n",
        "\n",
        "plt.show()"
      ],
      "metadata": {
        "colab": {
          "base_uri": "https://localhost:8080/",
          "height": 473
        },
        "id": "bqNAo1m-F4bS",
        "outputId": "5878ec64-4c76-40d1-cfcb-2f82a7c76909"
      },
      "execution_count": null,
      "outputs": [
        {
          "output_type": "display_data",
          "data": {
            "text/plain": [
              "<Figure size 800x600 with 1 Axes>"
            ],
            "image/png": "[encoded data removed]"
          },
          "metadata": {}
        }
      ]
    },
    {
      "cell_type": "code",
      "source": [
        "avg_duration_by_type = df.groupby('member_casual')['trip_duration_minutes'].mean()\n",
        "print(\"Average Trip Duration by Rider Type (in minutes)\")\n",
        "print(avg_duration_by_type)"
      ],
      "metadata": {
        "colab": {
          "base_uri": "https://localhost:8080/"
        },
        "id": "lK8WUHwSGBIs",
        "outputId": "5f782b81-d084-4317-8608-ad03832a756f"
      },
      "execution_count": null,
      "outputs": [
        {
          "output_type": "stream",
          "name": "stderr",
          "text": [
            "/tmp/ipython-input-2414723714.py:1: FutureWarning: The default of observed=False is deprecated and will be changed to True in a future version of pandas. Pass observed=False to retain current behavior or observed=True to adopt the future default and silence this warning.\n",
            "  avg_duration_by_type = df.groupby('member_casual')['trip_duration_minutes'].mean()\n"
          ]
        },
        {
          "output_type": "stream",
          "name": "stdout",
          "text": [
            "Average Trip Duration by Rider Type (in minutes)\n",
            "member_casual\n",
            "casual    19.956124\n",
            "member    12.119992\n",
            "Name: trip_duration_minutes, dtype: float64\n"
          ]
        }
      ]
    },
    {
      "cell_type": "code",
      "source": [
        "plt.figure(figsize=(12, 7))\n",
        "ax = sns.countplot(x='day_of_week', hue='member_casual', data=df,\n",
        "              order=['Monday', 'Tuesday', 'Wednesday', 'Thursday', 'Friday', 'Saturday', 'Sunday'],\n",
        "              palette='viridis')\n",
        "plt.title('Trip Counts by Day of the Week for Each Rider Type')\n",
        "plt.xlabel('Day of the Week')\n",
        "plt.ylabel('Total Number of Trips')\n",
        "plt.legend(title='Rider Type')\n",
        "\n",
        "ax.yaxis.set_major_formatter(mticker.FuncFormatter(millions_formatter))\n",
        "\n",
        "plt.show()"
      ],
      "metadata": {
        "colab": {
          "base_uri": "https://localhost:8080/",
          "height": 382
        },
        "id": "LPdUHOixL0hn",
        "outputId": "9c307d2b-7ab4-4afb-8079-328ec139a667"
      },
      "execution_count": null,
      "outputs": [
        {
          "output_type": "display_data",
          "data": {
            "text/plain": [
              "<Figure size 1200x700 with 1 Axes>"
            ],
            "image/png": "[encoded data removed]"
          },
          "metadata": {}
        }
      ]
    },
    {
      "cell_type": "code",
      "source": [],
      "metadata": {
        "id": "4ah1JEyEjyvj"
      },
      "execution_count": null,
      "outputs": []
    },
    {
      "cell_type": "code",
      "source": [],
      "metadata": {
        "id": "VlKkR7pejylJ"
      },
      "execution_count": null,
      "outputs": []
    },
    {
      "cell_type": "code",
      "source": [],
      "metadata": {
        "id": "GhfAh-VfjyTu"
      },
      "execution_count": null,
      "outputs": []
    },
    {
      "cell_type": "markdown",
      "source": [
        "# Dashboard"
      ],
      "metadata": {
        "id": "ObqZDMtnf6tR"
      }
    }
  ]
}